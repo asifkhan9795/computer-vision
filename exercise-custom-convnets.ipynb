{
 "cells": [
  {
   "cell_type": "markdown",
   "id": "fca715c9",
   "metadata": {
    "papermill": {
     "duration": 0.005495,
     "end_time": "2024-05-28T11:52:02.384883",
     "exception": false,
     "start_time": "2024-05-28T11:52:02.379388",
     "status": "completed"
    },
    "tags": []
   },
   "source": [
    "**This notebook is an exercise in the [Computer Vision](https://www.kaggle.com/learn/computer-vision) course.  You can reference the tutorial at [this link](https://www.kaggle.com/ryanholbrook/custom-convnets).**\n",
    "\n",
    "---\n"
   ]
  },
  {
   "cell_type": "markdown",
   "id": "512388b3",
   "metadata": {
    "papermill": {
     "duration": 0.004603,
     "end_time": "2024-05-28T11:52:02.394595",
     "exception": false,
     "start_time": "2024-05-28T11:52:02.389992",
     "status": "completed"
    },
    "tags": []
   },
   "source": [
    "# Introduction #\n",
    "\n",
    "In these exercises, you'll build a custom convnet with performance competitive to the VGG16 model from Lesson 1.\n",
    "\n",
    "Get started by running the code cell below."
   ]
  },
  {
   "cell_type": "code",
   "execution_count": 1,
   "id": "83462b32",
   "metadata": {
    "execution": {
     "iopub.execute_input": "2024-05-28T11:52:02.405865Z",
     "iopub.status.busy": "2024-05-28T11:52:02.405487Z",
     "iopub.status.idle": "2024-05-28T11:52:24.052480Z",
     "shell.execute_reply": "2024-05-28T11:52:24.051529Z"
    },
    "papermill": {
     "duration": 21.655296,
     "end_time": "2024-05-28T11:52:24.054912",
     "exception": false,
     "start_time": "2024-05-28T11:52:02.399616",
     "status": "completed"
    },
    "tags": []
   },
   "outputs": [
    {
     "name": "stderr",
     "output_type": "stream",
     "text": [
      "2024-05-28 11:52:05.042867: E external/local_xla/xla/stream_executor/cuda/cuda_dnn.cc:9261] Unable to register cuDNN factory: Attempting to register factory for plugin cuDNN when one has already been registered\n",
      "2024-05-28 11:52:05.042965: E external/local_xla/xla/stream_executor/cuda/cuda_fft.cc:607] Unable to register cuFFT factory: Attempting to register factory for plugin cuFFT when one has already been registered\n",
      "2024-05-28 11:52:05.178262: E external/local_xla/xla/stream_executor/cuda/cuda_blas.cc:1515] Unable to register cuBLAS factory: Attempting to register factory for plugin cuBLAS when one has already been registered\n"
     ]
    },
    {
     "name": "stdout",
     "output_type": "stream",
     "text": [
      "Found 5117 files belonging to 2 classes.\n",
      "Found 5051 files belonging to 2 classes.\n"
     ]
    }
   ],
   "source": [
    "# Setup feedback system\n",
    "from learntools.core import binder\n",
    "binder.bind(globals())\n",
    "from learntools.computer_vision.ex5 import *\n",
    "\n",
    "# Imports\n",
    "import os, warnings\n",
    "import matplotlib.pyplot as plt\n",
    "from matplotlib import gridspec\n",
    "\n",
    "import numpy as np\n",
    "import tensorflow as tf\n",
    "from tensorflow.keras.preprocessing import image_dataset_from_directory\n",
    "\n",
    "# Reproducability\n",
    "def set_seed(seed=31415):\n",
    "    np.random.seed(seed)\n",
    "    tf.random.set_seed(seed)\n",
    "    os.environ['PYTHONHASHSEED'] = str(seed)\n",
    "    os.environ['TF_DETERMINISTIC_OPS'] = '1'\n",
    "set_seed()\n",
    "\n",
    "# Set Matplotlib defaults\n",
    "plt.rc('figure', autolayout=True)\n",
    "plt.rc('axes', labelweight='bold', labelsize='large',\n",
    "       titleweight='bold', titlesize=18, titlepad=10)\n",
    "plt.rc('image', cmap='magma')\n",
    "warnings.filterwarnings(\"ignore\") # to clean up output cells\n",
    "\n",
    "\n",
    "# Load training and validation sets\n",
    "ds_train_ = image_dataset_from_directory(\n",
    "    '../input/car-or-truck/train',\n",
    "    labels='inferred',\n",
    "    label_mode='binary',\n",
    "    image_size=[128, 128],\n",
    "    interpolation='nearest',\n",
    "    batch_size=64,\n",
    "    shuffle=True,\n",
    ")\n",
    "ds_valid_ = image_dataset_from_directory(\n",
    "    '../input/car-or-truck/valid',\n",
    "    labels='inferred',\n",
    "    label_mode='binary',\n",
    "    image_size=[128, 128],\n",
    "    interpolation='nearest',\n",
    "    batch_size=64,\n",
    "    shuffle=False,\n",
    ")\n",
    "\n",
    "# Data Pipeline\n",
    "def convert_to_float(image, label):\n",
    "    image = tf.image.convert_image_dtype(image, dtype=tf.float32)\n",
    "    return image, label\n",
    "\n",
    "AUTOTUNE = tf.data.experimental.AUTOTUNE\n",
    "ds_train = (\n",
    "    ds_train_\n",
    "    .map(convert_to_float)\n",
    "    .cache()\n",
    "    .prefetch(buffer_size=AUTOTUNE)\n",
    ")\n",
    "ds_valid = (\n",
    "    ds_valid_\n",
    "    .map(convert_to_float)\n",
    "    .cache()\n",
    "    .prefetch(buffer_size=AUTOTUNE)\n",
    ")\n"
   ]
  },
  {
   "cell_type": "markdown",
   "id": "6ff2d09d",
   "metadata": {
    "papermill": {
     "duration": 0.004984,
     "end_time": "2024-05-28T11:52:24.065888",
     "exception": false,
     "start_time": "2024-05-28T11:52:24.060904",
     "status": "completed"
    },
    "tags": []
   },
   "source": [
    "# Design a Convnet #\n",
    "\n",
    "Let's design a convolutional network with a block architecture like we saw in the tutorial. The model from the example had three blocks, each with a single convolutional layer. Its performance on the \"Car or Truck\" problem was okay, but far from what the pretrained VGG16 could achieve. It might be that our simple network lacks the ability to extract sufficiently complex features. We could try improving the model either by adding more blocks or by adding convolutions to the blocks we have.\n",
    "\n",
    "Let's go with the second approach. We'll keep the three block structure, but increase the number of `Conv2D` layer in the second block to two, and in the third block to three.\n",
    "\n",
    "<figure>\n",
    "<!-- <img src=\"./images/2-convmodel-2.png\" width=\"250\" alt=\"Diagram of a convolutional model.\"> -->\n",
    "<img src=\"https://storage.googleapis.com/kaggle-media/learn/images/Vko6nCK.png\" width=\"250\" alt=\"Diagram of a convolutional model.\">\n",
    "</figure>\n",
    "\n",
    "# 1) Define Model #\n",
    "\n",
    "Given the diagram above, complete the model by defining the layers of the third block."
   ]
  },
  {
   "cell_type": "code",
   "execution_count": 2,
   "id": "f6a32baf",
   "metadata": {
    "execution": {
     "iopub.execute_input": "2024-05-28T11:52:24.077642Z",
     "iopub.status.busy": "2024-05-28T11:52:24.077289Z",
     "iopub.status.idle": "2024-05-28T11:52:24.238823Z",
     "shell.execute_reply": "2024-05-28T11:52:24.237910Z"
    },
    "lines_to_next_cell": 0,
    "papermill": {
     "duration": 0.170139,
     "end_time": "2024-05-28T11:52:24.241133",
     "exception": false,
     "start_time": "2024-05-28T11:52:24.070994",
     "status": "completed"
    },
    "tags": []
   },
   "outputs": [
    {
     "data": {
      "application/javascript": [
       "parent.postMessage({\"jupyterEvent\": \"custom.exercise_interaction\", \"data\": {\"outcomeType\": 1, \"valueTowardsCompletion\": 0.3333333333333333, \"interactionType\": 1, \"questionType\": 2, \"questionId\": \"1_Q1\", \"learnToolsVersion\": \"0.3.4\", \"failureMessage\": \"\", \"exceptionClass\": \"\", \"trace\": \"\"}}, \"*\")"
      ],
      "text/plain": [
       "<IPython.core.display.Javascript object>"
      ]
     },
     "metadata": {},
     "output_type": "display_data"
    },
    {
     "data": {
      "text/markdown": [
       "<span style=\"color:#33cc33\">Correct</span>"
      ],
      "text/plain": [
       "Correct"
      ]
     },
     "metadata": {},
     "output_type": "display_data"
    }
   ],
   "source": [
    "from tensorflow import keras\n",
    "from tensorflow.keras import layers\n",
    "\n",
    "model = keras.Sequential([\n",
    "    # Block One\n",
    "    layers.Conv2D(filters=32, kernel_size=3, activation='relu', padding='same',\n",
    "                  input_shape=[128, 128, 3]),\n",
    "    layers.MaxPool2D(),\n",
    "\n",
    "    # Block Two\n",
    "    layers.Conv2D(filters=64, kernel_size=3, activation='relu', padding='same'),\n",
    "    layers.MaxPool2D(),\n",
    "\n",
    "    # Block Three\n",
    "    # YOUR CODE HERE\n",
    "    layers.Conv2D(filters=128, kernel_size=3, activation=\"relu\", padding='same'),\n",
    "    layers.Conv2D(filters=128, kernel_size=3, activation=\"relu\", padding='same'),\n",
    "    layers.MaxPool2D(),\n",
    "    # ____,\n",
    "\n",
    "    # Head\n",
    "    layers.Flatten(),\n",
    "    layers.Dense(6, activation='relu'),\n",
    "    layers.Dropout(0.2),\n",
    "    layers.Dense(1, activation='sigmoid'),\n",
    "])\n",
    "\n",
    "# Check your answer\n",
    "q_1.check()"
   ]
  },
  {
   "cell_type": "code",
   "execution_count": 3,
   "id": "73f0ebb8",
   "metadata": {
    "execution": {
     "iopub.execute_input": "2024-05-28T11:52:24.253334Z",
     "iopub.status.busy": "2024-05-28T11:52:24.253064Z",
     "iopub.status.idle": "2024-05-28T11:52:24.263260Z",
     "shell.execute_reply": "2024-05-28T11:52:24.262360Z"
    },
    "papermill": {
     "duration": 0.018445,
     "end_time": "2024-05-28T11:52:24.265191",
     "exception": false,
     "start_time": "2024-05-28T11:52:24.246746",
     "status": "completed"
    },
    "tags": []
   },
   "outputs": [
    {
     "data": {
      "application/javascript": [
       "parent.postMessage({\"jupyterEvent\": \"custom.exercise_interaction\", \"data\": {\"interactionType\": 2, \"questionType\": 2, \"questionId\": \"1_Q1\", \"learnToolsVersion\": \"0.3.4\", \"valueTowardsCompletion\": 0.0, \"failureMessage\": \"\", \"exceptionClass\": \"\", \"trace\": \"\", \"outcomeType\": 4}}, \"*\")"
      ],
      "text/plain": [
       "<IPython.core.display.Javascript object>"
      ]
     },
     "metadata": {},
     "output_type": "display_data"
    },
    {
     "data": {
      "text/markdown": [
       "<span style=\"color:#3366cc\">Hint:</span> You should add two `Conv2D` layers and then a `MaxPool2D` layer. They will be just the same as the other layers in the model, except for some of the parameter values."
      ],
      "text/plain": [
       "Hint: You should add two `Conv2D` layers and then a `MaxPool2D` layer. They will be just the same as the other layers in the model, except for some of the parameter values."
      ]
     },
     "metadata": {},
     "output_type": "display_data"
    },
    {
     "data": {
      "application/javascript": [
       "parent.postMessage({\"jupyterEvent\": \"custom.exercise_interaction\", \"data\": {\"interactionType\": 3, \"questionType\": 2, \"questionId\": \"1_Q1\", \"learnToolsVersion\": \"0.3.4\", \"valueTowardsCompletion\": 0.0, \"failureMessage\": \"\", \"exceptionClass\": \"\", \"trace\": \"\", \"outcomeType\": 4}}, \"*\")"
      ],
      "text/plain": [
       "<IPython.core.display.Javascript object>"
      ]
     },
     "metadata": {},
     "output_type": "display_data"
    },
    {
     "data": {
      "text/markdown": [
       "<span style=\"color:#33cc99\">Solution:</span> \n",
       "```python\n",
       "\n",
       "from tensorflow import keras\n",
       "from tensorflow.keras import layers\n",
       "\n",
       "model = keras.Sequential([\n",
       "    # Block One\n",
       "    layers.Conv2D(filters=32, kernel_size=3, activation='relu', padding='same',\n",
       "                  input_shape=[128, 128, 3]),\n",
       "    layers.MaxPool2D(),\n",
       "\n",
       "    # Block Two\n",
       "    layers.Conv2D(filters=64, kernel_size=3, activation='relu', padding='same'),\n",
       "    layers.MaxPool2D(),\n",
       "\n",
       "    # Block Three\n",
       "    layers.Conv2D(filters=128, kernel_size=3, activation='relu', padding='same'),\n",
       "    layers.Conv2D(filters=128, kernel_size=3, activation='relu', padding='same'),\n",
       "    layers.MaxPool2D(),\n",
       "\n",
       "    # Head\n",
       "    layers.Flatten(),\n",
       "    layers.Dense(6, activation='relu'),\n",
       "    layers.Dropout(0.2),\n",
       "    layers.Dense(1, activation='sigmoid'),\n",
       "])\n",
       "\n",
       "```"
      ],
      "text/plain": [
       "Solution: \n",
       "```python\n",
       "\n",
       "from tensorflow import keras\n",
       "from tensorflow.keras import layers\n",
       "\n",
       "model = keras.Sequential([\n",
       "    # Block One\n",
       "    layers.Conv2D(filters=32, kernel_size=3, activation='relu', padding='same',\n",
       "                  input_shape=[128, 128, 3]),\n",
       "    layers.MaxPool2D(),\n",
       "\n",
       "    # Block Two\n",
       "    layers.Conv2D(filters=64, kernel_size=3, activation='relu', padding='same'),\n",
       "    layers.MaxPool2D(),\n",
       "\n",
       "    # Block Three\n",
       "    layers.Conv2D(filters=128, kernel_size=3, activation='relu', padding='same'),\n",
       "    layers.Conv2D(filters=128, kernel_size=3, activation='relu', padding='same'),\n",
       "    layers.MaxPool2D(),\n",
       "\n",
       "    # Head\n",
       "    layers.Flatten(),\n",
       "    layers.Dense(6, activation='relu'),\n",
       "    layers.Dropout(0.2),\n",
       "    layers.Dense(1, activation='sigmoid'),\n",
       "])\n",
       "\n",
       "```"
      ]
     },
     "metadata": {},
     "output_type": "display_data"
    }
   ],
   "source": [
    "# Lines below will give you a hint or solution code\n",
    "q_1.hint()\n",
    "q_1.solution()"
   ]
  },
  {
   "cell_type": "markdown",
   "id": "3ec3a3d1",
   "metadata": {
    "papermill": {
     "duration": 0.00572,
     "end_time": "2024-05-28T11:52:24.276995",
     "exception": false,
     "start_time": "2024-05-28T11:52:24.271275",
     "status": "completed"
    },
    "tags": []
   },
   "source": [
    "# 2) Compile #\n",
    "\n",
    "To prepare for training, compile the model with an appropriate loss and accuracy metric for the \"Car or Truck\" dataset."
   ]
  },
  {
   "cell_type": "code",
   "execution_count": 4,
   "id": "5c42b838",
   "metadata": {
    "execution": {
     "iopub.execute_input": "2024-05-28T11:52:24.290078Z",
     "iopub.status.busy": "2024-05-28T11:52:24.289792Z",
     "iopub.status.idle": "2024-05-28T11:52:24.487228Z",
     "shell.execute_reply": "2024-05-28T11:52:24.486335Z"
    },
    "lines_to_next_cell": 0,
    "papermill": {
     "duration": 0.206702,
     "end_time": "2024-05-28T11:52:24.489628",
     "exception": false,
     "start_time": "2024-05-28T11:52:24.282926",
     "status": "completed"
    },
    "tags": []
   },
   "outputs": [
    {
     "data": {
      "application/javascript": [
       "parent.postMessage({\"jupyterEvent\": \"custom.exercise_interaction\", \"data\": {\"outcomeType\": 1, \"valueTowardsCompletion\": 0.3333333333333333, \"interactionType\": 1, \"questionType\": 2, \"questionId\": \"2_Q2\", \"learnToolsVersion\": \"0.3.4\", \"failureMessage\": \"\", \"exceptionClass\": \"\", \"trace\": \"\"}}, \"*\")"
      ],
      "text/plain": [
       "<IPython.core.display.Javascript object>"
      ]
     },
     "metadata": {},
     "output_type": "display_data"
    },
    {
     "data": {
      "text/markdown": [
       "<span style=\"color:#33cc33\">Correct</span>"
      ],
      "text/plain": [
       "Correct"
      ]
     },
     "metadata": {},
     "output_type": "display_data"
    }
   ],
   "source": [
    "model.compile(\n",
    "    optimizer=tf.keras.optimizers.Adam(epsilon=0.01),\n",
    "    # YOUR CODE HERE: Add loss and metric\n",
    "    loss='binary_crossentropy',\n",
    "    metrics=['binary_accuracy'],\n",
    ")\n",
    "\n",
    "# Check your answer\n",
    "q_2.check()"
   ]
  },
  {
   "cell_type": "code",
   "execution_count": 5,
   "id": "4f8b3f62",
   "metadata": {
    "execution": {
     "iopub.execute_input": "2024-05-28T11:52:24.503866Z",
     "iopub.status.busy": "2024-05-28T11:52:24.503567Z",
     "iopub.status.idle": "2024-05-28T11:52:24.517033Z",
     "shell.execute_reply": "2024-05-28T11:52:24.516193Z"
    },
    "lines_to_next_cell": 0,
    "papermill": {
     "duration": 0.022496,
     "end_time": "2024-05-28T11:52:24.518922",
     "exception": false,
     "start_time": "2024-05-28T11:52:24.496426",
     "status": "completed"
    },
    "tags": []
   },
   "outputs": [
    {
     "data": {
      "application/javascript": [
       "parent.postMessage({\"jupyterEvent\": \"custom.exercise_interaction\", \"data\": {\"outcomeType\": 1, \"valueTowardsCompletion\": 0.3333333333333333, \"interactionType\": 1, \"questionType\": 2, \"questionId\": \"2_Q2\", \"learnToolsVersion\": \"0.3.4\", \"failureMessage\": \"\", \"exceptionClass\": \"\", \"trace\": \"\"}}, \"*\")"
      ],
      "text/plain": [
       "<IPython.core.display.Javascript object>"
      ]
     },
     "metadata": {},
     "output_type": "display_data"
    },
    {
     "data": {
      "text/markdown": [
       "<span style=\"color:#33cc33\">Correct</span>"
      ],
      "text/plain": [
       "Correct"
      ]
     },
     "metadata": {},
     "output_type": "display_data"
    }
   ],
   "source": [
    "model.compile(\n",
    "    optimizer=tf.keras.optimizers.Adam(epsilon=0.01),\n",
    "    loss='binary_crossentropy',\n",
    "    metrics=['binary_accuracy'],\n",
    ")\n",
    "q_2.assert_check_passed()"
   ]
  },
  {
   "cell_type": "code",
   "execution_count": 6,
   "id": "275358fd",
   "metadata": {
    "execution": {
     "iopub.execute_input": "2024-05-28T11:52:24.533483Z",
     "iopub.status.busy": "2024-05-28T11:52:24.533186Z",
     "iopub.status.idle": "2024-05-28T11:52:24.540242Z",
     "shell.execute_reply": "2024-05-28T11:52:24.539341Z"
    },
    "lines_to_next_cell": 0,
    "papermill": {
     "duration": 0.016639,
     "end_time": "2024-05-28T11:52:24.542260",
     "exception": false,
     "start_time": "2024-05-28T11:52:24.525621",
     "status": "completed"
    },
    "tags": []
   },
   "outputs": [
    {
     "data": {
      "application/javascript": [
       "parent.postMessage({\"jupyterEvent\": \"custom.exercise_interaction\", \"data\": {\"interactionType\": 3, \"questionType\": 2, \"questionId\": \"2_Q2\", \"learnToolsVersion\": \"0.3.4\", \"valueTowardsCompletion\": 0.0, \"failureMessage\": \"\", \"exceptionClass\": \"\", \"trace\": \"\", \"outcomeType\": 4}}, \"*\")"
      ],
      "text/plain": [
       "<IPython.core.display.Javascript object>"
      ]
     },
     "metadata": {},
     "output_type": "display_data"
    },
    {
     "data": {
      "text/markdown": [
       "<span style=\"color:#33cc99\">Solution:</span> \n",
       "```python\n",
       "\n",
       "model.compile(\n",
       "    optimizer=tf.keras.optimizers.Adam(learning_rate=0.0001),\n",
       "    loss='binary_crossentropy',\n",
       "    metrics=['binary_accuracy'],\n",
       ")\n",
       "\n",
       "```"
      ],
      "text/plain": [
       "Solution: \n",
       "```python\n",
       "\n",
       "model.compile(\n",
       "    optimizer=tf.keras.optimizers.Adam(learning_rate=0.0001),\n",
       "    loss='binary_crossentropy',\n",
       "    metrics=['binary_accuracy'],\n",
       ")\n",
       "\n",
       "```"
      ]
     },
     "metadata": {},
     "output_type": "display_data"
    }
   ],
   "source": [
    "# Lines below will give you a hint or solution code\n",
    "#q_2.hint()\n",
    "q_2.solution()"
   ]
  },
  {
   "cell_type": "markdown",
   "id": "c5bee51a",
   "metadata": {
    "papermill": {
     "duration": 0.007545,
     "end_time": "2024-05-28T11:52:24.556605",
     "exception": false,
     "start_time": "2024-05-28T11:52:24.549060",
     "status": "completed"
    },
    "tags": []
   },
   "source": [
    "Finally, let's test the performance of this new model. First run this cell to fit the model to the training set."
   ]
  },
  {
   "cell_type": "code",
   "execution_count": 7,
   "id": "d069c7b5",
   "metadata": {
    "execution": {
     "iopub.execute_input": "2024-05-28T11:52:24.571287Z",
     "iopub.status.busy": "2024-05-28T11:52:24.571026Z",
     "iopub.status.idle": "2024-05-28T11:55:19.003011Z",
     "shell.execute_reply": "2024-05-28T11:55:19.002097Z"
    },
    "papermill": {
     "duration": 174.44173,
     "end_time": "2024-05-28T11:55:19.005114",
     "exception": false,
     "start_time": "2024-05-28T11:52:24.563384",
     "status": "completed"
    },
    "tags": []
   },
   "outputs": [
    {
     "name": "stdout",
     "output_type": "stream",
     "text": [
      "Epoch 1/50\n"
     ]
    },
    {
     "name": "stderr",
     "output_type": "stream",
     "text": [
      "WARNING: All log messages before absl::InitializeLog() is called are written to STDERR\n",
      "I0000 00:00:1716897148.773586      74 device_compiler.h:186] Compiled cluster using XLA!  This line is logged at most once for the lifetime of the process.\n"
     ]
    },
    {
     "name": "stdout",
     "output_type": "stream",
     "text": [
      "80/80 [==============================] - 17s 139ms/step - loss: 0.6766 - binary_accuracy: 0.5759 - val_loss: 0.6623 - val_binary_accuracy: 0.5785\n",
      "Epoch 2/50\n",
      "80/80 [==============================] - 3s 40ms/step - loss: 0.6622 - binary_accuracy: 0.5787 - val_loss: 0.6531 - val_binary_accuracy: 0.5789\n",
      "Epoch 3/50\n",
      "80/80 [==============================] - 3s 40ms/step - loss: 0.6560 - binary_accuracy: 0.5779 - val_loss: 0.6482 - val_binary_accuracy: 0.5817\n",
      "Epoch 4/50\n",
      "80/80 [==============================] - 3s 40ms/step - loss: 0.6480 - binary_accuracy: 0.6201 - val_loss: 0.6481 - val_binary_accuracy: 0.6015\n",
      "Epoch 5/50\n",
      "80/80 [==============================] - 3s 40ms/step - loss: 0.6422 - binary_accuracy: 0.6252 - val_loss: 0.6356 - val_binary_accuracy: 0.6201\n",
      "Epoch 6/50\n",
      "80/80 [==============================] - 3s 40ms/step - loss: 0.6314 - binary_accuracy: 0.6334 - val_loss: 0.6279 - val_binary_accuracy: 0.6337\n",
      "Epoch 7/50\n",
      "80/80 [==============================] - 3s 40ms/step - loss: 0.6176 - binary_accuracy: 0.6539 - val_loss: 0.6038 - val_binary_accuracy: 0.6739\n",
      "Epoch 8/50\n",
      "80/80 [==============================] - 3s 40ms/step - loss: 0.6097 - binary_accuracy: 0.6705 - val_loss: 0.6046 - val_binary_accuracy: 0.6632\n",
      "Epoch 9/50\n",
      "80/80 [==============================] - 3s 40ms/step - loss: 0.5955 - binary_accuracy: 0.6820 - val_loss: 0.5894 - val_binary_accuracy: 0.6793\n",
      "Epoch 10/50\n",
      "80/80 [==============================] - 3s 40ms/step - loss: 0.5790 - binary_accuracy: 0.6914 - val_loss: 0.5754 - val_binary_accuracy: 0.6953\n",
      "Epoch 11/50\n",
      "80/80 [==============================] - 3s 39ms/step - loss: 0.5725 - binary_accuracy: 0.7024 - val_loss: 0.5629 - val_binary_accuracy: 0.7078\n",
      "Epoch 12/50\n",
      "80/80 [==============================] - 3s 39ms/step - loss: 0.5517 - binary_accuracy: 0.7252 - val_loss: 0.5603 - val_binary_accuracy: 0.7135\n",
      "Epoch 13/50\n",
      "80/80 [==============================] - 3s 40ms/step - loss: 0.5338 - binary_accuracy: 0.7379 - val_loss: 0.5359 - val_binary_accuracy: 0.7315\n",
      "Epoch 14/50\n",
      "80/80 [==============================] - 3s 40ms/step - loss: 0.5122 - binary_accuracy: 0.7577 - val_loss: 0.5144 - val_binary_accuracy: 0.7458\n",
      "Epoch 15/50\n",
      "80/80 [==============================] - 3s 40ms/step - loss: 0.4871 - binary_accuracy: 0.7682 - val_loss: 0.4986 - val_binary_accuracy: 0.7539\n",
      "Epoch 16/50\n",
      "80/80 [==============================] - 3s 40ms/step - loss: 0.4538 - binary_accuracy: 0.7895 - val_loss: 0.4868 - val_binary_accuracy: 0.7699\n",
      "Epoch 17/50\n",
      "80/80 [==============================] - 3s 40ms/step - loss: 0.4361 - binary_accuracy: 0.7987 - val_loss: 0.4577 - val_binary_accuracy: 0.7834\n",
      "Epoch 18/50\n",
      "80/80 [==============================] - 3s 40ms/step - loss: 0.4089 - binary_accuracy: 0.8132 - val_loss: 0.4633 - val_binary_accuracy: 0.7840\n",
      "Epoch 19/50\n",
      "80/80 [==============================] - 3s 40ms/step - loss: 0.3746 - binary_accuracy: 0.8286 - val_loss: 0.4638 - val_binary_accuracy: 0.7990\n",
      "Epoch 20/50\n",
      "80/80 [==============================] - 3s 40ms/step - loss: 0.3518 - binary_accuracy: 0.8345 - val_loss: 0.4389 - val_binary_accuracy: 0.8022\n",
      "Epoch 21/50\n",
      "80/80 [==============================] - 3s 40ms/step - loss: 0.3313 - binary_accuracy: 0.8450 - val_loss: 0.4471 - val_binary_accuracy: 0.8064\n",
      "Epoch 22/50\n",
      "80/80 [==============================] - 3s 40ms/step - loss: 0.2912 - binary_accuracy: 0.8679 - val_loss: 0.4579 - val_binary_accuracy: 0.8109\n",
      "Epoch 23/50\n",
      "80/80 [==============================] - 3s 40ms/step - loss: 0.2867 - binary_accuracy: 0.8706 - val_loss: 0.4925 - val_binary_accuracy: 0.7761\n",
      "Epoch 24/50\n",
      "80/80 [==============================] - 3s 40ms/step - loss: 0.2792 - binary_accuracy: 0.8698 - val_loss: 0.4570 - val_binary_accuracy: 0.8119\n",
      "Epoch 25/50\n",
      "80/80 [==============================] - 3s 40ms/step - loss: 0.2685 - binary_accuracy: 0.8777 - val_loss: 0.4407 - val_binary_accuracy: 0.8183\n",
      "Epoch 26/50\n",
      "80/80 [==============================] - 3s 40ms/step - loss: 0.2257 - binary_accuracy: 0.8943 - val_loss: 0.4669 - val_binary_accuracy: 0.8208\n",
      "Epoch 27/50\n",
      "80/80 [==============================] - 3s 40ms/step - loss: 0.1991 - binary_accuracy: 0.9023 - val_loss: 0.4872 - val_binary_accuracy: 0.8103\n",
      "Epoch 28/50\n",
      "80/80 [==============================] - 3s 40ms/step - loss: 0.1995 - binary_accuracy: 0.9042 - val_loss: 0.4130 - val_binary_accuracy: 0.8230\n",
      "Epoch 29/50\n",
      "80/80 [==============================] - 3s 40ms/step - loss: 0.2088 - binary_accuracy: 0.9013 - val_loss: 0.4613 - val_binary_accuracy: 0.8278\n",
      "Epoch 30/50\n",
      "80/80 [==============================] - 3s 40ms/step - loss: 0.1875 - binary_accuracy: 0.9132 - val_loss: 0.5759 - val_binary_accuracy: 0.8022\n",
      "Epoch 31/50\n",
      "80/80 [==============================] - 3s 40ms/step - loss: 0.1698 - binary_accuracy: 0.9173 - val_loss: 0.6832 - val_binary_accuracy: 0.7860\n",
      "Epoch 32/50\n",
      "80/80 [==============================] - 3s 40ms/step - loss: 0.1724 - binary_accuracy: 0.9156 - val_loss: 0.6953 - val_binary_accuracy: 0.7856\n",
      "Epoch 33/50\n",
      "80/80 [==============================] - 3s 40ms/step - loss: 0.1504 - binary_accuracy: 0.9283 - val_loss: 0.7719 - val_binary_accuracy: 0.8042\n",
      "Epoch 34/50\n",
      "80/80 [==============================] - 3s 40ms/step - loss: 0.1327 - binary_accuracy: 0.9339 - val_loss: 0.6238 - val_binary_accuracy: 0.8260\n",
      "Epoch 35/50\n",
      "80/80 [==============================] - 3s 40ms/step - loss: 0.1300 - binary_accuracy: 0.9341 - val_loss: 0.5491 - val_binary_accuracy: 0.8345\n",
      "Epoch 36/50\n",
      "80/80 [==============================] - 3s 39ms/step - loss: 0.1237 - binary_accuracy: 0.9377 - val_loss: 0.5639 - val_binary_accuracy: 0.8218\n",
      "Epoch 37/50\n",
      "80/80 [==============================] - 3s 40ms/step - loss: 0.1229 - binary_accuracy: 0.9408 - val_loss: 0.5048 - val_binary_accuracy: 0.8367\n",
      "Epoch 38/50\n",
      "80/80 [==============================] - 3s 40ms/step - loss: 0.1161 - binary_accuracy: 0.9420 - val_loss: 0.5918 - val_binary_accuracy: 0.8155\n",
      "Epoch 39/50\n",
      "80/80 [==============================] - 3s 40ms/step - loss: 0.1182 - binary_accuracy: 0.9414 - val_loss: 0.5595 - val_binary_accuracy: 0.8179\n",
      "Epoch 40/50\n",
      "80/80 [==============================] - 3s 40ms/step - loss: 0.1079 - binary_accuracy: 0.9468 - val_loss: 0.6436 - val_binary_accuracy: 0.8115\n",
      "Epoch 41/50\n",
      "80/80 [==============================] - 3s 40ms/step - loss: 0.0990 - binary_accuracy: 0.9554 - val_loss: 0.6015 - val_binary_accuracy: 0.8371\n",
      "Epoch 42/50\n",
      "80/80 [==============================] - 3s 40ms/step - loss: 0.0856 - binary_accuracy: 0.9619 - val_loss: 0.6334 - val_binary_accuracy: 0.8382\n",
      "Epoch 43/50\n",
      "80/80 [==============================] - 3s 40ms/step - loss: 0.0686 - binary_accuracy: 0.9668 - val_loss: 0.6642 - val_binary_accuracy: 0.8432\n",
      "Epoch 44/50\n",
      "80/80 [==============================] - 3s 40ms/step - loss: 0.0626 - binary_accuracy: 0.9691 - val_loss: 0.7247 - val_binary_accuracy: 0.8420\n",
      "Epoch 45/50\n",
      "80/80 [==============================] - 3s 40ms/step - loss: 0.0520 - binary_accuracy: 0.9752 - val_loss: 0.6931 - val_binary_accuracy: 0.8440\n",
      "Epoch 46/50\n",
      "80/80 [==============================] - 3s 40ms/step - loss: 0.0549 - binary_accuracy: 0.9742 - val_loss: 0.6754 - val_binary_accuracy: 0.8464\n",
      "Epoch 47/50\n",
      "80/80 [==============================] - 3s 40ms/step - loss: 0.0525 - binary_accuracy: 0.9764 - val_loss: 0.6733 - val_binary_accuracy: 0.8438\n",
      "Epoch 48/50\n",
      "80/80 [==============================] - 3s 40ms/step - loss: 0.0431 - binary_accuracy: 0.9818 - val_loss: 0.7518 - val_binary_accuracy: 0.8499\n",
      "Epoch 49/50\n",
      "80/80 [==============================] - 3s 40ms/step - loss: 0.0433 - binary_accuracy: 0.9801 - val_loss: 0.7117 - val_binary_accuracy: 0.8394\n",
      "Epoch 50/50\n",
      "80/80 [==============================] - 3s 40ms/step - loss: 0.0386 - binary_accuracy: 0.9834 - val_loss: 0.8383 - val_binary_accuracy: 0.8333\n"
     ]
    }
   ],
   "source": [
    "history = model.fit(\n",
    "    ds_train,\n",
    "    validation_data=ds_valid,\n",
    "    epochs=50,\n",
    ")"
   ]
  },
  {
   "cell_type": "markdown",
   "id": "e6bb21f7",
   "metadata": {
    "papermill": {
     "duration": 0.172639,
     "end_time": "2024-05-28T11:55:19.392277",
     "exception": false,
     "start_time": "2024-05-28T11:55:19.219638",
     "status": "completed"
    },
    "tags": []
   },
   "source": [
    "And now run the cell below to plot the loss and metric curves for this training run."
   ]
  },
  {
   "cell_type": "code",
   "execution_count": 8,
   "id": "7ede9876",
   "metadata": {
    "execution": {
     "iopub.execute_input": "2024-05-28T11:55:19.738538Z",
     "iopub.status.busy": "2024-05-28T11:55:19.737823Z",
     "iopub.status.idle": "2024-05-28T11:55:20.430932Z",
     "shell.execute_reply": "2024-05-28T11:55:20.430049Z"
    },
    "papermill": {
     "duration": 0.868389,
     "end_time": "2024-05-28T11:55:20.433095",
     "exception": false,
     "start_time": "2024-05-28T11:55:19.564706",
     "status": "completed"
    },
    "tags": []
   },
   "outputs": [
    {
     "data": {
      "image/png": "[encoded data removed]",
      "text/plain": [
       "<Figure size 640x480 with 1 Axes>"
      ]
     },
     "metadata": {},
     "output_type": "display_data"
    },
    {
     "data": {
      "image/png": "[encoded data removed]",
      "text/plain": [
       "<Figure size 640x480 with 1 Axes>"
      ]
     },
     "metadata": {},
     "output_type": "display_data"
    }
   ],
   "source": [
    "import pandas as pd\n",
    "history_frame = pd.DataFrame(history.history)\n",
    "history_frame.loc[:, ['loss', 'val_loss']].plot()\n",
    "history_frame.loc[:, ['binary_accuracy', 'val_binary_accuracy']].plot();"
   ]
  },
  {
   "cell_type": "markdown",
   "id": "5b641ebf",
   "metadata": {
    "papermill": {
     "duration": 0.174228,
     "end_time": "2024-05-28T11:55:20.781163",
     "exception": false,
     "start_time": "2024-05-28T11:55:20.606935",
     "status": "completed"
    },
    "tags": []
   },
   "source": [
    "# 3) Train the Model #\n",
    "\n",
    "How would you interpret these training curves? Did this model improve upon the model from the tutorial?"
   ]
  },
  {
   "cell_type": "code",
   "execution_count": 9,
   "id": "dcc2e6df",
   "metadata": {
    "execution": {
     "iopub.execute_input": "2024-05-28T11:55:21.128053Z",
     "iopub.status.busy": "2024-05-28T11:55:21.127221Z",
     "iopub.status.idle": "2024-05-28T11:55:21.134837Z",
     "shell.execute_reply": "2024-05-28T11:55:21.133958Z"
    },
    "lines_to_next_cell": 0,
    "papermill": {
     "duration": 0.181958,
     "end_time": "2024-05-28T11:55:21.136762",
     "exception": false,
     "start_time": "2024-05-28T11:55:20.954804",
     "status": "completed"
    },
    "tags": []
   },
   "outputs": [
    {
     "data": {
      "application/javascript": [
       "parent.postMessage({\"jupyterEvent\": \"custom.exercise_interaction\", \"data\": {\"outcomeType\": 1, \"valueTowardsCompletion\": 0.3333333333333333, \"interactionType\": 1, \"questionType\": 4, \"questionId\": \"3_Q3\", \"learnToolsVersion\": \"0.3.4\", \"failureMessage\": \"\", \"exceptionClass\": \"\", \"trace\": \"\"}}, \"*\")"
      ],
      "text/plain": [
       "<IPython.core.display.Javascript object>"
      ]
     },
     "metadata": {},
     "output_type": "display_data"
    },
    {
     "data": {
      "text/markdown": [
       "<span style=\"color:#33cc33\">Correct:</span> \n",
       "\n",
       "\n",
       "The learning curves for the model from the tutorial diverged fairly rapidly. This would indicate that it was prone to overfitting and in need of some regularization. The additional layer in our new model would make it even more prone to overfitting. However, adding some regularization with the `Dropout` layer helped prevent this. These changes improved the validation accuracy of the model by several points.\n"
      ],
      "text/plain": [
       "Correct: \n",
       "\n",
       "\n",
       "The learning curves for the model from the tutorial diverged fairly rapidly. This would indicate that it was prone to overfitting and in need of some regularization. The additional layer in our new model would make it even more prone to overfitting. However, adding some regularization with the `Dropout` layer helped prevent this. These changes improved the validation accuracy of the model by several points."
      ]
     },
     "metadata": {},
     "output_type": "display_data"
    }
   ],
   "source": [
    "# View the solution (Run this code cell to receive credit!)\n",
    "q_3.check()"
   ]
  },
  {
   "cell_type": "markdown",
   "id": "f9233a2f",
   "metadata": {
    "papermill": {
     "duration": 0.174585,
     "end_time": "2024-05-28T11:55:21.483019",
     "exception": false,
     "start_time": "2024-05-28T11:55:21.308434",
     "status": "completed"
    },
    "tags": []
   },
   "source": [
    "# Conclusion #\n",
    "\n",
    "These exercises showed you how to design a custom convolutional network to solve a specific classification problem. Though most models these days will be built on top of a pretrained base, it certain circumstances a smaller custom convnet might still be preferable -- such as with a smaller or unusual dataset or when computing resources are very limited. As you saw here, for certain problems they can perform just as well as a pretrained model.\n",
    "\n",
    "# Keep Going #\n",
    "\n",
    "Continue on to [**Lesson 6**](https://www.kaggle.com/ryanholbrook/data-augmentation), where you'll learn a widely-used technique that can give a boost to your training data: **data augmentation**."
   ]
  },
  {
   "cell_type": "markdown",
   "id": "2cc94af5",
   "metadata": {
    "papermill": {
     "duration": 0.171922,
     "end_time": "2024-05-28T11:55:21.866572",
     "exception": false,
     "start_time": "2024-05-28T11:55:21.694650",
     "status": "completed"
    },
    "tags": []
   },
   "source": [
    "---\n",
    "\n",
    "\n",
    "\n",
    "\n",
    "*Have questions or comments? Visit the [course discussion forum](https://www.kaggle.com/learn/computer-vision/discussion) to chat with other learners.*"
   ]
  }
 ],
 "metadata": {
  "jupytext": {
   "formats": "md,ipynb"
  },
  "kaggle": {
   "accelerator": "gpu",
   "dataSources": [
    {
     "datasetId": 708136,
     "sourceId": 1338830,
     "sourceType": "datasetVersion"
    },
    {
     "datasetId": 701538,
     "sourceId": 1363948,
     "sourceType": "datasetVersion"
    },
    {
     "datasetId": 878523,
     "sourceId": 1495782,
     "sourceType": "datasetVersion"
    }
   ],
   "dockerImageVersionId": 30648,
   "isGpuEnabled": true,
   "isInternetEnabled": false,
   "language": "python",
   "sourceType": "notebook"
  },
  "kernelspec": {
   "display_name": "Python 3",
   "language": "python",
   "name": "python3"
  },
  "language_info": {
   "codemirror_mode": {
    "name": "ipython",
    "version": 3
   },
   "file_extension": ".py",
   "mimetype": "text/x-python",
   "name": "python",
   "nbconvert_exporter": "python",
   "pygments_lexer": "ipython3",
   "version": "3.10.13"
  },
  "papermill": {
   "default_parameters": {},
   "duration": 205.30548,
   "end_time": "2024-05-28T11:55:24.930701",
   "environment_variables": {},
   "exception": null,
   "input_path": "__notebook__.ipynb",
   "output_path": "__notebook__.ipynb",
   "parameters": {},
   "start_time": "2024-05-28T11:51:59.625221",
   "version": "2.5.0"
  }
 },
 "nbformat": 4,
 "nbformat_minor": 5
}
