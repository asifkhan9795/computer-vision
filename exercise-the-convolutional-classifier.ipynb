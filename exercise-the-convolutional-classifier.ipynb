{
 "cells": [
  {
   "cell_type": "markdown",
   "id": "5c5be3ad",
   "metadata": {
    "papermill": {
     "duration": 0.006468,
     "end_time": "2024-05-27T16:39:40.889063",
     "exception": false,
     "start_time": "2024-05-27T16:39:40.882595",
     "status": "completed"
    },
    "tags": []
   },
   "source": [
    "**This notebook is an exercise in the [Computer Vision](https://www.kaggle.com/learn/computer-vision) course.  You can reference the tutorial at [this link](https://www.kaggle.com/ryanholbrook/the-convolutional-classifier).**\n",
    "\n",
    "---\n"
   ]
  },
  {
   "cell_type": "markdown",
   "id": "f091f09c",
   "metadata": {
    "papermill": {
     "duration": 0.005519,
     "end_time": "2024-05-27T16:39:40.900597",
     "exception": false,
     "start_time": "2024-05-27T16:39:40.895078",
     "status": "completed"
    },
    "tags": []
   },
   "source": [
    "<blockquote style=\"margin-right:auto; margin-left:auto; background-color: #ebf9ff; padding: 1em; margin:24px;\">\n",
    "    <strong>Accelerate Training with a Kaggle GPU!</strong><br>\n",
    "Did you know Kaggle offers free time with a GPU accelerator? You can speed up training neural networks in this course by switching to <strong>GPU</strong> in the <em>Accelerator</em> option on the right. (It may already be turned on.) Two things to be aware of:\n",
    "<ul>\n",
    "<li>Changing the <em>Accelerator</em> option will cause the notebook session to restart. You'll need to rerun any setup code.\n",
    "<li>You can have only one GPU session at a time, so be sure to shut the notebook down after you've finished the exercise.\n",
    "</ul>\n",
    "</blockquote>"
   ]
  },
  {
   "cell_type": "markdown",
   "id": "3f96904d",
   "metadata": {
    "papermill": {
     "duration": 0.005512,
     "end_time": "2024-05-27T16:39:40.911851",
     "exception": false,
     "start_time": "2024-05-27T16:39:40.906339",
     "status": "completed"
    },
    "tags": []
   },
   "source": [
    "# Introduction #\n",
    "\n",
    "In the tutorial, we saw how to build an image classifier by attaching a head of dense layers to a pretrained base. The base we used was from a model called **VGG16**. We saw that the VGG16 architecture was prone to overfitting this dataset. Over this course, you'll learn a number of ways you can improve upon this initial attempt.\n",
    "\n",
    "The first way you'll see is to use a base more appropriate to the dataset. The base this model comes from is called **InceptionV1** (also known as GoogLeNet). InceptionV1 was one of the early winners of the ImageNet competition. One of its successors, InceptionV4, is among the state of the art today.\n",
    "\n",
    "To get started, run the code cell below to set everything up."
   ]
  },
  {
   "cell_type": "code",
   "execution_count": 1,
   "id": "08b09aed",
   "metadata": {
    "execution": {
     "iopub.execute_input": "2024-05-27T16:39:40.925792Z",
     "iopub.status.busy": "2024-05-27T16:39:40.924971Z",
     "iopub.status.idle": "2024-05-27T16:40:07.647346Z",
     "shell.execute_reply": "2024-05-27T16:40:07.646589Z"
    },
    "lines_to_next_cell": 2,
    "papermill": {
     "duration": 26.731934,
     "end_time": "2024-05-27T16:40:07.649591",
     "exception": false,
     "start_time": "2024-05-27T16:39:40.917657",
     "status": "completed"
    },
    "tags": []
   },
   "outputs": [
    {
     "name": "stderr",
     "output_type": "stream",
     "text": [
      "2024-05-27 16:39:43.369276: E external/local_xla/xla/stream_executor/cuda/cuda_dnn.cc:9261] Unable to register cuDNN factory: Attempting to register factory for plugin cuDNN when one has already been registered\n",
      "2024-05-27 16:39:43.369381: E external/local_xla/xla/stream_executor/cuda/cuda_fft.cc:607] Unable to register cuFFT factory: Attempting to register factory for plugin cuFFT when one has already been registered\n",
      "2024-05-27 16:39:43.489750: E external/local_xla/xla/stream_executor/cuda/cuda_blas.cc:1515] Unable to register cuBLAS factory: Attempting to register factory for plugin cuBLAS when one has already been registered\n"
     ]
    },
    {
     "name": "stdout",
     "output_type": "stream",
     "text": [
      "Found 5117 files belonging to 2 classes.\n",
      "Found 5051 files belonging to 2 classes.\n"
     ]
    }
   ],
   "source": [
    "# Setup feedback system\n",
    "from learntools.core import binder\n",
    "binder.bind(globals())\n",
    "from learntools.computer_vision.ex1 import *\n",
    "\n",
    "# Imports\n",
    "import os, warnings\n",
    "import matplotlib.pyplot as plt\n",
    "from matplotlib import gridspec\n",
    "\n",
    "import numpy as np\n",
    "import tensorflow as tf\n",
    "from tensorflow.keras.preprocessing import image_dataset_from_directory\n",
    "\n",
    "# Reproducability\n",
    "def set_seed(seed=31415):\n",
    "    np.random.seed(seed)\n",
    "    tf.random.set_seed(seed)\n",
    "    os.environ['PYTHONHASHSEED'] = str(seed)\n",
    "    os.environ['TF_DETERMINISTIC_OPS'] = '1'\n",
    "set_seed()\n",
    "\n",
    "# Set Matplotlib defaults\n",
    "plt.rc('figure', autolayout=True)\n",
    "plt.rc('axes', labelweight='bold', labelsize='large',\n",
    "       titleweight='bold', titlesize=18, titlepad=10)\n",
    "plt.rc('image', cmap='magma')\n",
    "warnings.filterwarnings(\"ignore\") # to clean up output cells\n",
    "\n",
    "\n",
    "# Load training and validation sets\n",
    "ds_train_ = image_dataset_from_directory(\n",
    "    '../input/car-or-truck/train',\n",
    "    labels='inferred',\n",
    "    label_mode='binary',\n",
    "    image_size=[128, 128],\n",
    "    interpolation='nearest',\n",
    "    batch_size=64,\n",
    "    shuffle=True,\n",
    ")\n",
    "ds_valid_ = image_dataset_from_directory(\n",
    "    '../input/car-or-truck/valid',\n",
    "    labels='inferred',\n",
    "    label_mode='binary',\n",
    "    image_size=[128, 128],\n",
    "    interpolation='nearest',\n",
    "    batch_size=64,\n",
    "    shuffle=False,\n",
    ")\n",
    "\n",
    "# Data Pipeline\n",
    "def convert_to_float(image, label):\n",
    "    image = tf.image.convert_image_dtype(image, dtype=tf.float32)\n",
    "    return image, label\n",
    "\n",
    "AUTOTUNE = tf.data.experimental.AUTOTUNE\n",
    "ds_train = (\n",
    "    ds_train_\n",
    "    .map(convert_to_float)\n",
    "    .cache()\n",
    "    .prefetch(buffer_size=AUTOTUNE)\n",
    ")\n",
    "ds_valid = (\n",
    "    ds_valid_\n",
    "    .map(convert_to_float)\n",
    "    .cache()\n",
    "    .prefetch(buffer_size=AUTOTUNE)\n",
    ")\n"
   ]
  },
  {
   "cell_type": "markdown",
   "id": "8509c3c8",
   "metadata": {
    "papermill": {
     "duration": 0.006195,
     "end_time": "2024-05-27T16:40:07.662398",
     "exception": false,
     "start_time": "2024-05-27T16:40:07.656203",
     "status": "completed"
    },
    "tags": []
   },
   "source": [
    "The **InceptionV1** model pretrained on ImageNet is available in the [TensorFlow Hub](https://www.tensorflow.org/hub/) repository, but we'll load it from a local copy. Run this cell to load InceptionV1 for your base."
   ]
  },
  {
   "cell_type": "code",
   "execution_count": 2,
   "id": "783b99f2",
   "metadata": {
    "execution": {
     "iopub.execute_input": "2024-05-27T16:40:07.675919Z",
     "iopub.status.busy": "2024-05-27T16:40:07.675630Z",
     "iopub.status.idle": "2024-05-27T16:40:12.190685Z",
     "shell.execute_reply": "2024-05-27T16:40:12.189904Z"
    },
    "lines_to_next_cell": 0,
    "papermill": {
     "duration": 4.524482,
     "end_time": "2024-05-27T16:40:12.192953",
     "exception": false,
     "start_time": "2024-05-27T16:40:07.668471",
     "status": "completed"
    },
    "tags": []
   },
   "outputs": [],
   "source": [
    "import tensorflow_hub as hub\n",
    "\n",
    "pretrained_base = tf.keras.models.load_model(\n",
    "    '../input/cv-course-models/cv-course-models/inceptionv1'\n",
    ")"
   ]
  },
  {
   "cell_type": "markdown",
   "id": "c3e7c96e",
   "metadata": {
    "papermill": {
     "duration": 0.006008,
     "end_time": "2024-05-27T16:40:12.205737",
     "exception": false,
     "start_time": "2024-05-27T16:40:12.199729",
     "status": "completed"
    },
    "tags": []
   },
   "source": [
    "# 1) Define Pretrained Base #\n",
    "\n",
    "Now that you have a pretrained base to do our feature extraction, decide whether this base should be trainable or not."
   ]
  },
  {
   "cell_type": "code",
   "execution_count": 3,
   "id": "af3cab2c",
   "metadata": {
    "execution": {
     "iopub.execute_input": "2024-05-27T16:40:12.219645Z",
     "iopub.status.busy": "2024-05-27T16:40:12.219242Z",
     "iopub.status.idle": "2024-05-27T16:40:12.228069Z",
     "shell.execute_reply": "2024-05-27T16:40:12.227260Z"
    },
    "lines_to_next_cell": 0,
    "papermill": {
     "duration": 0.018029,
     "end_time": "2024-05-27T16:40:12.230018",
     "exception": false,
     "start_time": "2024-05-27T16:40:12.211989",
     "status": "completed"
    },
    "tags": []
   },
   "outputs": [
    {
     "data": {
      "application/javascript": [
       "parent.postMessage({\"jupyterEvent\": \"custom.exercise_interaction\", \"data\": {\"outcomeType\": 1, \"valueTowardsCompletion\": 0.25, \"interactionType\": 1, \"questionType\": 2, \"questionId\": \"1_Q1\", \"learnToolsVersion\": \"0.3.4\", \"failureMessage\": \"\", \"exceptionClass\": \"\", \"trace\": \"\"}}, \"*\")"
      ],
      "text/plain": [
       "<IPython.core.display.Javascript object>"
      ]
     },
     "metadata": {},
     "output_type": "display_data"
    },
    {
     "data": {
      "text/markdown": [
       "<span style=\"color:#33cc33\">Correct:</span> When doing transfer learning, it's generally not a good idea to retrain the entire base -- at least not without some care. The reason is that the random weights in the head will initially create large gradient updates, which propogate back into the base layers and destroy much of the pretraining. Using techniques known as **fine tuning** it's possible to further train the base on new data, but this requires some care to do well."
      ],
      "text/plain": [
       "Correct: When doing transfer learning, it's generally not a good idea to retrain the entire base -- at least not without some care. The reason is that the random weights in the head will initially create large gradient updates, which propogate back into the base layers and destroy much of the pretraining. Using techniques known as **fine tuning** it's possible to further train the base on new data, but this requires some care to do well."
      ]
     },
     "metadata": {},
     "output_type": "display_data"
    }
   ],
   "source": [
    "# YOUR_CODE_HERE\n",
    "pretrained_base.trainable = False\n",
    "\n",
    "# Check your answer\n",
    "q_1.check()"
   ]
  },
  {
   "cell_type": "code",
   "execution_count": 4,
   "id": "30778a3e",
   "metadata": {
    "execution": {
     "iopub.execute_input": "2024-05-27T16:40:12.244519Z",
     "iopub.status.busy": "2024-05-27T16:40:12.244198Z",
     "iopub.status.idle": "2024-05-27T16:40:12.254730Z",
     "shell.execute_reply": "2024-05-27T16:40:12.253884Z"
    },
    "papermill": {
     "duration": 0.020319,
     "end_time": "2024-05-27T16:40:12.256816",
     "exception": false,
     "start_time": "2024-05-27T16:40:12.236497",
     "status": "completed"
    },
    "tags": []
   },
   "outputs": [
    {
     "data": {
      "application/javascript": [
       "parent.postMessage({\"jupyterEvent\": \"custom.exercise_interaction\", \"data\": {\"interactionType\": 2, \"questionType\": 2, \"questionId\": \"1_Q1\", \"learnToolsVersion\": \"0.3.4\", \"valueTowardsCompletion\": 0.0, \"failureMessage\": \"\", \"exceptionClass\": \"\", \"trace\": \"\", \"outcomeType\": 4}}, \"*\")"
      ],
      "text/plain": [
       "<IPython.core.display.Javascript object>"
      ]
     },
     "metadata": {},
     "output_type": "display_data"
    },
    {
     "data": {
      "text/markdown": [
       "<span style=\"color:#3366cc\">Hint:</span> `True` or `False`?"
      ],
      "text/plain": [
       "Hint: `True` or `False`?"
      ]
     },
     "metadata": {},
     "output_type": "display_data"
    },
    {
     "data": {
      "application/javascript": [
       "parent.postMessage({\"jupyterEvent\": \"custom.exercise_interaction\", \"data\": {\"interactionType\": 3, \"questionType\": 2, \"questionId\": \"1_Q1\", \"learnToolsVersion\": \"0.3.4\", \"valueTowardsCompletion\": 0.0, \"failureMessage\": \"\", \"exceptionClass\": \"\", \"trace\": \"\", \"outcomeType\": 4}}, \"*\")"
      ],
      "text/plain": [
       "<IPython.core.display.Javascript object>"
      ]
     },
     "metadata": {},
     "output_type": "display_data"
    },
    {
     "data": {
      "text/markdown": [
       "<span style=\"color:#33cc99\">Solution:</span> \n",
       "```python\n",
       "pretrained_base.trainable = False\n",
       "```"
      ],
      "text/plain": [
       "Solution: \n",
       "```python\n",
       "pretrained_base.trainable = False\n",
       "```"
      ]
     },
     "metadata": {},
     "output_type": "display_data"
    }
   ],
   "source": [
    "# Lines below will give you a hint or solution code\n",
    "q_1.hint()\n",
    "q_1.solution()"
   ]
  },
  {
   "cell_type": "markdown",
   "id": "6107fe12",
   "metadata": {
    "papermill": {
     "duration": 0.006691,
     "end_time": "2024-05-27T16:40:12.271365",
     "exception": false,
     "start_time": "2024-05-27T16:40:12.264674",
     "status": "completed"
    },
    "tags": []
   },
   "source": [
    "# 2) Attach Head #\n",
    "\n",
    "Now that the base is defined to do the feature extraction, create a head of `Dense` layers to perform the classification, following this diagram:\n",
    "\n",
    "<figure>\n",
    "<img src=\"https://storage.googleapis.com/kaggle-media/learn/images/i5VU7Ry.png\" alt=\"Diagram of the dense head.\">\n",
    "</figure>\n"
   ]
  },
  {
   "cell_type": "code",
   "execution_count": 5,
   "id": "35d6d518",
   "metadata": {
    "execution": {
     "iopub.execute_input": "2024-05-27T16:40:12.286050Z",
     "iopub.status.busy": "2024-05-27T16:40:12.285765Z",
     "iopub.status.idle": "2024-05-27T16:40:12.305381Z",
     "shell.execute_reply": "2024-05-27T16:40:12.304460Z"
    },
    "lines_to_next_cell": 0,
    "papermill": {
     "duration": 0.030176,
     "end_time": "2024-05-27T16:40:12.308325",
     "exception": false,
     "start_time": "2024-05-27T16:40:12.278149",
     "status": "completed"
    },
    "tags": []
   },
   "outputs": [
    {
     "data": {
      "application/javascript": [
       "parent.postMessage({\"jupyterEvent\": \"custom.exercise_interaction\", \"data\": {\"outcomeType\": 1, \"valueTowardsCompletion\": 0.25, \"interactionType\": 1, \"questionType\": 2, \"questionId\": \"2_Q2\", \"learnToolsVersion\": \"0.3.4\", \"failureMessage\": \"\", \"exceptionClass\": \"\", \"trace\": \"\"}}, \"*\")"
      ],
      "text/plain": [
       "<IPython.core.display.Javascript object>"
      ]
     },
     "metadata": {},
     "output_type": "display_data"
    },
    {
     "data": {
      "text/markdown": [
       "<span style=\"color:#33cc33\">Correct</span>"
      ],
      "text/plain": [
       "Correct"
      ]
     },
     "metadata": {},
     "output_type": "display_data"
    }
   ],
   "source": [
    "from tensorflow import keras\n",
    "from tensorflow.keras import layers\n",
    "\n",
    "model = keras.Sequential([\n",
    "    pretrained_base,\n",
    "    layers.Flatten(),\n",
    "    # YOUR CODE HERE. Attach a head of dense layers.\n",
    "    layers.Dense(6, activation='relu'),\n",
    "    layers.Dense(1, activation='sigmoid'),\n",
    "])\n",
    "\n",
    "# Check your answer\n",
    "q_2.check()"
   ]
  },
  {
   "cell_type": "code",
   "execution_count": 6,
   "id": "3323705a",
   "metadata": {
    "execution": {
     "iopub.execute_input": "2024-05-27T16:40:12.323857Z",
     "iopub.status.busy": "2024-05-27T16:40:12.323581Z",
     "iopub.status.idle": "2024-05-27T16:40:12.333812Z",
     "shell.execute_reply": "2024-05-27T16:40:12.332890Z"
    },
    "papermill": {
     "duration": 0.020301,
     "end_time": "2024-05-27T16:40:12.335843",
     "exception": false,
     "start_time": "2024-05-27T16:40:12.315542",
     "status": "completed"
    },
    "tags": []
   },
   "outputs": [
    {
     "data": {
      "application/javascript": [
       "parent.postMessage({\"jupyterEvent\": \"custom.exercise_interaction\", \"data\": {\"interactionType\": 2, \"questionType\": 2, \"questionId\": \"2_Q2\", \"learnToolsVersion\": \"0.3.4\", \"valueTowardsCompletion\": 0.0, \"failureMessage\": \"\", \"exceptionClass\": \"\", \"trace\": \"\", \"outcomeType\": 4}}, \"*\")"
      ],
      "text/plain": [
       "<IPython.core.display.Javascript object>"
      ]
     },
     "metadata": {},
     "output_type": "display_data"
    },
    {
     "data": {
      "text/markdown": [
       "<span style=\"color:#3366cc\">Hint:</span> You need to add two new `Dense` layers. The first should have 6 units and `'relu'` activation. The second should have 1 unit and `'sigmoid'` activation."
      ],
      "text/plain": [
       "Hint: You need to add two new `Dense` layers. The first should have 6 units and `'relu'` activation. The second should have 1 unit and `'sigmoid'` activation."
      ]
     },
     "metadata": {},
     "output_type": "display_data"
    },
    {
     "data": {
      "application/javascript": [
       "parent.postMessage({\"jupyterEvent\": \"custom.exercise_interaction\", \"data\": {\"interactionType\": 3, \"questionType\": 2, \"questionId\": \"2_Q2\", \"learnToolsVersion\": \"0.3.4\", \"valueTowardsCompletion\": 0.0, \"failureMessage\": \"\", \"exceptionClass\": \"\", \"trace\": \"\", \"outcomeType\": 4}}, \"*\")"
      ],
      "text/plain": [
       "<IPython.core.display.Javascript object>"
      ]
     },
     "metadata": {},
     "output_type": "display_data"
    },
    {
     "data": {
      "text/markdown": [
       "<span style=\"color:#33cc99\">Solution:</span> \n",
       "```python\n",
       " \n",
       "from tensorflow import keras\n",
       "from tensorflow.keras import layers\n",
       "\n",
       "model = keras.Sequential([\n",
       "    pretrained_base,\n",
       "    layers.Flatten(),\n",
       "    layers.Dense(6, activation='relu'),\n",
       "    layers.Dense(1, activation='sigmoid'),\n",
       "])\n",
       "\n",
       "```"
      ],
      "text/plain": [
       "Solution: \n",
       "```python\n",
       " \n",
       "from tensorflow import keras\n",
       "from tensorflow.keras import layers\n",
       "\n",
       "model = keras.Sequential([\n",
       "    pretrained_base,\n",
       "    layers.Flatten(),\n",
       "    layers.Dense(6, activation='relu'),\n",
       "    layers.Dense(1, activation='sigmoid'),\n",
       "])\n",
       "\n",
       "```"
      ]
     },
     "metadata": {},
     "output_type": "display_data"
    }
   ],
   "source": [
    "# Lines below will give you a hint or solution code\n",
    "q_2.hint()\n",
    "q_2.solution()"
   ]
  },
  {
   "cell_type": "markdown",
   "id": "385d97e6",
   "metadata": {
    "papermill": {
     "duration": 0.007593,
     "end_time": "2024-05-27T16:40:12.351218",
     "exception": false,
     "start_time": "2024-05-27T16:40:12.343625",
     "status": "completed"
    },
    "tags": []
   },
   "source": [
    "# 3) Train #\n",
    "\n",
    "Before training a model in Keras, you need to specify an *optimizer* to perform the gradient descent, a *loss function* to be minimized, and (optionally) any *performance metrics*. The optimization algorithm we'll use for this course is called [\"Adam\"](https://keras.io/api/optimizers/adam/), which generally performs well regardless of what kind of problem you're trying to solve.\n",
    "\n",
    "The loss and the metrics, however, need to match the kind of problem you're trying to solve. Our problem is a **binary classification** problem: `Car` coded as 0, and `Truck` coded as 1. Choose an appropriate loss and an appropriate accuracy metric for binary classification."
   ]
  },
  {
   "cell_type": "code",
   "execution_count": 7,
   "id": "24fa4103",
   "metadata": {
    "execution": {
     "iopub.execute_input": "2024-05-27T16:40:12.368269Z",
     "iopub.status.busy": "2024-05-27T16:40:12.368000Z",
     "iopub.status.idle": "2024-05-27T16:40:12.396778Z",
     "shell.execute_reply": "2024-05-27T16:40:12.395888Z"
    },
    "lines_to_next_cell": 0,
    "papermill": {
     "duration": 0.039597,
     "end_time": "2024-05-27T16:40:12.398833",
     "exception": false,
     "start_time": "2024-05-27T16:40:12.359236",
     "status": "completed"
    },
    "tags": []
   },
   "outputs": [
    {
     "data": {
      "application/javascript": [
       "parent.postMessage({\"jupyterEvent\": \"custom.exercise_interaction\", \"data\": {\"outcomeType\": 1, \"valueTowardsCompletion\": 0.25, \"interactionType\": 1, \"questionType\": 2, \"questionId\": \"3_Q3\", \"learnToolsVersion\": \"0.3.4\", \"failureMessage\": \"\", \"exceptionClass\": \"\", \"trace\": \"\"}}, \"*\")"
      ],
      "text/plain": [
       "<IPython.core.display.Javascript object>"
      ]
     },
     "metadata": {},
     "output_type": "display_data"
    },
    {
     "data": {
      "text/markdown": [
       "<span style=\"color:#33cc33\">Correct</span>"
      ],
      "text/plain": [
       "Correct"
      ]
     },
     "metadata": {},
     "output_type": "display_data"
    }
   ],
   "source": [
    "# YOUR CODE HERE: what loss function should you use for a binary\n",
    "# classification problem? (Your answer for each should be a string.)\n",
    "optimizer = tf.keras.optimizers.Adam(epsilon=0.01)\n",
    "model.compile(\n",
    "    optimizer=optimizer,\n",
    "    loss = 'binary_crossentropy',\n",
    "    metrics=['binary_accuracy'],\n",
    ")\n",
    "\n",
    "# Check your answer\n",
    "q_3.check()"
   ]
  },
  {
   "cell_type": "code",
   "execution_count": 8,
   "id": "8a66c817",
   "metadata": {
    "execution": {
     "iopub.execute_input": "2024-05-27T16:40:12.416794Z",
     "iopub.status.busy": "2024-05-27T16:40:12.416448Z",
     "iopub.status.idle": "2024-05-27T16:40:12.427461Z",
     "shell.execute_reply": "2024-05-27T16:40:12.426531Z"
    },
    "lines_to_next_cell": 0,
    "papermill": {
     "duration": 0.02194,
     "end_time": "2024-05-27T16:40:12.429402",
     "exception": false,
     "start_time": "2024-05-27T16:40:12.407462",
     "status": "completed"
    },
    "tags": []
   },
   "outputs": [
    {
     "data": {
      "application/javascript": [
       "parent.postMessage({\"jupyterEvent\": \"custom.exercise_interaction\", \"data\": {\"interactionType\": 2, \"questionType\": 2, \"questionId\": \"3_Q3\", \"learnToolsVersion\": \"0.3.4\", \"valueTowardsCompletion\": 0.0, \"failureMessage\": \"\", \"exceptionClass\": \"\", \"trace\": \"\", \"outcomeType\": 4}}, \"*\")"
      ],
      "text/plain": [
       "<IPython.core.display.Javascript object>"
      ]
     },
     "metadata": {},
     "output_type": "display_data"
    },
    {
     "data": {
      "text/markdown": [
       "<span style=\"color:#3366cc\">Hint:</span> This is a *binary* classification problem."
      ],
      "text/plain": [
       "Hint: This is a *binary* classification problem."
      ]
     },
     "metadata": {},
     "output_type": "display_data"
    },
    {
     "data": {
      "application/javascript": [
       "parent.postMessage({\"jupyterEvent\": \"custom.exercise_interaction\", \"data\": {\"interactionType\": 3, \"questionType\": 2, \"questionId\": \"3_Q3\", \"learnToolsVersion\": \"0.3.4\", \"valueTowardsCompletion\": 0.0, \"failureMessage\": \"\", \"exceptionClass\": \"\", \"trace\": \"\", \"outcomeType\": 4}}, \"*\")"
      ],
      "text/plain": [
       "<IPython.core.display.Javascript object>"
      ]
     },
     "metadata": {},
     "output_type": "display_data"
    },
    {
     "data": {
      "text/markdown": [
       "<span style=\"color:#33cc99\">Solution:</span> \n",
       "```python\n",
       "\n",
       "model.compile(\n",
       "    optimizer='adam',\n",
       "    loss='binary_crossentropy',\n",
       "    metrics=['binary_accuracy'],\n",
       ")\n",
       "\n",
       "```"
      ],
      "text/plain": [
       "Solution: \n",
       "```python\n",
       "\n",
       "model.compile(\n",
       "    optimizer='adam',\n",
       "    loss='binary_crossentropy',\n",
       "    metrics=['binary_accuracy'],\n",
       ")\n",
       "\n",
       "```"
      ]
     },
     "metadata": {},
     "output_type": "display_data"
    }
   ],
   "source": [
    "# Lines below will give you a hint or solution code\n",
    "q_3.hint()\n",
    "q_3.solution()"
   ]
  },
  {
   "cell_type": "code",
   "execution_count": 9,
   "id": "03fb63de",
   "metadata": {
    "execution": {
     "iopub.execute_input": "2024-05-27T16:40:12.447951Z",
     "iopub.status.busy": "2024-05-27T16:40:12.447708Z",
     "iopub.status.idle": "2024-05-27T16:42:23.351584Z",
     "shell.execute_reply": "2024-05-27T16:42:23.350565Z"
    },
    "papermill": {
     "duration": 130.915526,
     "end_time": "2024-05-27T16:42:23.353783",
     "exception": false,
     "start_time": "2024-05-27T16:40:12.438257",
     "status": "completed"
    },
    "tags": []
   },
   "outputs": [
    {
     "name": "stdout",
     "output_type": "stream",
     "text": [
      "Epoch 1/30\n"
     ]
    },
    {
     "name": "stderr",
     "output_type": "stream",
     "text": [
      "WARNING: All log messages before absl::InitializeLog() is called are written to STDERR\n",
      "I0000 00:00:1716828020.257183      72 device_compiler.h:186] Compiled cluster using XLA!  This line is logged at most once for the lifetime of the process.\n"
     ]
    },
    {
     "name": "stdout",
     "output_type": "stream",
     "text": [
      "80/80 [==============================] - 33s 320ms/step - loss: 0.5811 - binary_accuracy: 0.6822 - val_loss: 0.4420 - val_binary_accuracy: 0.8056\n",
      "Epoch 2/30\n",
      "80/80 [==============================] - 3s 42ms/step - loss: 0.4210 - binary_accuracy: 0.8134 - val_loss: 0.3933 - val_binary_accuracy: 0.8274\n",
      "Epoch 3/30\n",
      "80/80 [==============================] - 3s 42ms/step - loss: 0.3888 - binary_accuracy: 0.8270 - val_loss: 0.3792 - val_binary_accuracy: 0.8325\n",
      "Epoch 4/30\n",
      "80/80 [==============================] - 3s 42ms/step - loss: 0.3724 - binary_accuracy: 0.8355 - val_loss: 0.3710 - val_binary_accuracy: 0.8396\n",
      "Epoch 5/30\n",
      "80/80 [==============================] - 3s 42ms/step - loss: 0.3602 - binary_accuracy: 0.8435 - val_loss: 0.3653 - val_binary_accuracy: 0.8406\n",
      "Epoch 6/30\n",
      "80/80 [==============================] - 3s 42ms/step - loss: 0.3502 - binary_accuracy: 0.8493 - val_loss: 0.3611 - val_binary_accuracy: 0.8444\n",
      "Epoch 7/30\n",
      "80/80 [==============================] - 3s 42ms/step - loss: 0.3417 - binary_accuracy: 0.8523 - val_loss: 0.3582 - val_binary_accuracy: 0.8442\n",
      "Epoch 8/30\n",
      "80/80 [==============================] - 3s 42ms/step - loss: 0.3342 - binary_accuracy: 0.8560 - val_loss: 0.3554 - val_binary_accuracy: 0.8472\n",
      "Epoch 9/30\n",
      "80/80 [==============================] - 3s 42ms/step - loss: 0.3274 - binary_accuracy: 0.8603 - val_loss: 0.3535 - val_binary_accuracy: 0.8487\n",
      "Epoch 10/30\n",
      "80/80 [==============================] - 3s 42ms/step - loss: 0.3213 - binary_accuracy: 0.8628 - val_loss: 0.3517 - val_binary_accuracy: 0.8489\n",
      "Epoch 11/30\n",
      "80/80 [==============================] - 3s 42ms/step - loss: 0.3157 - binary_accuracy: 0.8644 - val_loss: 0.3501 - val_binary_accuracy: 0.8499\n",
      "Epoch 12/30\n",
      "80/80 [==============================] - 3s 42ms/step - loss: 0.3107 - binary_accuracy: 0.8683 - val_loss: 0.3490 - val_binary_accuracy: 0.8505\n",
      "Epoch 13/30\n",
      "80/80 [==============================] - 3s 42ms/step - loss: 0.3059 - binary_accuracy: 0.8738 - val_loss: 0.3478 - val_binary_accuracy: 0.8503\n",
      "Epoch 14/30\n",
      "80/80 [==============================] - 3s 42ms/step - loss: 0.3016 - binary_accuracy: 0.8755 - val_loss: 0.3471 - val_binary_accuracy: 0.8517\n",
      "Epoch 15/30\n",
      "80/80 [==============================] - 3s 42ms/step - loss: 0.2974 - binary_accuracy: 0.8786 - val_loss: 0.3463 - val_binary_accuracy: 0.8527\n",
      "Epoch 16/30\n",
      "80/80 [==============================] - 3s 42ms/step - loss: 0.2934 - binary_accuracy: 0.8812 - val_loss: 0.3453 - val_binary_accuracy: 0.8531\n",
      "Epoch 17/30\n",
      "80/80 [==============================] - 3s 42ms/step - loss: 0.2897 - binary_accuracy: 0.8825 - val_loss: 0.3436 - val_binary_accuracy: 0.8533\n",
      "Epoch 18/30\n",
      "80/80 [==============================] - 3s 42ms/step - loss: 0.2860 - binary_accuracy: 0.8845 - val_loss: 0.3430 - val_binary_accuracy: 0.8537\n",
      "Epoch 19/30\n",
      "80/80 [==============================] - 3s 42ms/step - loss: 0.2824 - binary_accuracy: 0.8867 - val_loss: 0.3416 - val_binary_accuracy: 0.8545\n",
      "Epoch 20/30\n",
      "80/80 [==============================] - 3s 42ms/step - loss: 0.2790 - binary_accuracy: 0.8870 - val_loss: 0.3401 - val_binary_accuracy: 0.8571\n",
      "Epoch 21/30\n",
      "80/80 [==============================] - 3s 43ms/step - loss: 0.2762 - binary_accuracy: 0.8874 - val_loss: 0.3413 - val_binary_accuracy: 0.8561\n",
      "Epoch 22/30\n",
      "80/80 [==============================] - 3s 42ms/step - loss: 0.2726 - binary_accuracy: 0.8882 - val_loss: 0.3391 - val_binary_accuracy: 0.8578\n",
      "Epoch 23/30\n",
      "80/80 [==============================] - 3s 42ms/step - loss: 0.2692 - binary_accuracy: 0.8894 - val_loss: 0.3376 - val_binary_accuracy: 0.8582\n",
      "Epoch 24/30\n",
      "80/80 [==============================] - 3s 42ms/step - loss: 0.2659 - binary_accuracy: 0.8913 - val_loss: 0.3360 - val_binary_accuracy: 0.8586\n",
      "Epoch 25/30\n",
      "80/80 [==============================] - 3s 42ms/step - loss: 0.2626 - binary_accuracy: 0.8929 - val_loss: 0.3359 - val_binary_accuracy: 0.8586\n",
      "Epoch 26/30\n",
      "80/80 [==============================] - 3s 42ms/step - loss: 0.2598 - binary_accuracy: 0.8949 - val_loss: 0.3345 - val_binary_accuracy: 0.8600\n",
      "Epoch 27/30\n",
      "80/80 [==============================] - 3s 42ms/step - loss: 0.2569 - binary_accuracy: 0.8964 - val_loss: 0.3335 - val_binary_accuracy: 0.8616\n",
      "Epoch 28/30\n",
      "80/80 [==============================] - 3s 42ms/step - loss: 0.2543 - binary_accuracy: 0.8996 - val_loss: 0.3328 - val_binary_accuracy: 0.8608\n",
      "Epoch 29/30\n",
      "80/80 [==============================] - 3s 42ms/step - loss: 0.2515 - binary_accuracy: 0.8999 - val_loss: 0.3336 - val_binary_accuracy: 0.8618\n",
      "Epoch 30/30\n",
      "80/80 [==============================] - 3s 42ms/step - loss: 0.2488 - binary_accuracy: 0.9001 - val_loss: 0.3330 - val_binary_accuracy: 0.8624\n"
     ]
    }
   ],
   "source": [
    "history = model.fit(\n",
    "    ds_train,\n",
    "    validation_data=ds_valid,\n",
    "    epochs=30,\n",
    ")"
   ]
  },
  {
   "cell_type": "markdown",
   "id": "894e8721",
   "metadata": {
    "papermill": {
     "duration": 0.082194,
     "end_time": "2024-05-27T16:42:23.527098",
     "exception": false,
     "start_time": "2024-05-27T16:42:23.444904",
     "status": "completed"
    },
    "tags": []
   },
   "source": [
    "Run the cell below to plot the loss and metric curves for this training run."
   ]
  },
  {
   "cell_type": "code",
   "execution_count": 10,
   "id": "02c55a2a",
   "metadata": {
    "execution": {
     "iopub.execute_input": "2024-05-27T16:42:23.733020Z",
     "iopub.status.busy": "2024-05-27T16:42:23.732294Z",
     "iopub.status.idle": "2024-05-27T16:42:24.404252Z",
     "shell.execute_reply": "2024-05-27T16:42:24.403314Z"
    },
    "papermill": {
     "duration": 0.79969,
     "end_time": "2024-05-27T16:42:24.406613",
     "exception": false,
     "start_time": "2024-05-27T16:42:23.606923",
     "status": "completed"
    },
    "tags": []
   },
   "outputs": [
    {
     "data": {
      "image/png": "[encoded data removed]",
      "text/plain": [
       "<Figure size 640x480 with 1 Axes>"
      ]
     },
     "metadata": {},
     "output_type": "display_data"
    },
    {
     "data": {
      "image/png": "[encoded data removed]",
      "text/plain": [
       "<Figure size 640x480 with 1 Axes>"
      ]
     },
     "metadata": {},
     "output_type": "display_data"
    }
   ],
   "source": [
    "import pandas as pd\n",
    "history_frame = pd.DataFrame(history.history)\n",
    "history_frame.loc[:, ['loss', 'val_loss']].plot()\n",
    "history_frame.loc[:, ['binary_accuracy', 'val_binary_accuracy']].plot();"
   ]
  },
  {
   "cell_type": "markdown",
   "id": "dc490bbc",
   "metadata": {
    "papermill": {
     "duration": 0.080888,
     "end_time": "2024-05-27T16:42:24.573366",
     "exception": false,
     "start_time": "2024-05-27T16:42:24.492478",
     "status": "completed"
    },
    "tags": []
   },
   "source": [
    "# 4) Examine Loss and Accuracy #\n",
    "\n",
    "Do you notice a difference between these learning curves and the curves for VGG16 from the tutorial? What does this difference tell you about what this model (InceptionV2) learned compared to VGG16? Are there ways in which one is better than the other? Worse?\n",
    "\n",
    "After you've thought about it, run the cell below to see the answer."
   ]
  },
  {
   "cell_type": "code",
   "execution_count": 11,
   "id": "d61d12e3",
   "metadata": {
    "execution": {
     "iopub.execute_input": "2024-05-27T16:42:24.738251Z",
     "iopub.status.busy": "2024-05-27T16:42:24.737529Z",
     "iopub.status.idle": "2024-05-27T16:42:24.745317Z",
     "shell.execute_reply": "2024-05-27T16:42:24.744445Z"
    },
    "papermill": {
     "duration": 0.093578,
     "end_time": "2024-05-27T16:42:24.747337",
     "exception": false,
     "start_time": "2024-05-27T16:42:24.653759",
     "status": "completed"
    },
    "tags": []
   },
   "outputs": [
    {
     "data": {
      "application/javascript": [
       "parent.postMessage({\"jupyterEvent\": \"custom.exercise_interaction\", \"data\": {\"outcomeType\": 1, \"valueTowardsCompletion\": 0.25, \"interactionType\": 1, \"questionType\": 4, \"questionId\": \"4_Q4\", \"learnToolsVersion\": \"0.3.4\", \"failureMessage\": \"\", \"exceptionClass\": \"\", \"trace\": \"\"}}, \"*\")"
      ],
      "text/plain": [
       "<IPython.core.display.Javascript object>"
      ]
     },
     "metadata": {},
     "output_type": "display_data"
    },
    {
     "data": {
      "text/markdown": [
       "<span style=\"color:#33cc33\">Correct:</span> \n",
       "\n",
       "That the training loss and validation loss stay fairly close is evidence that the model isn't just memorizing the training data, but rather learning general properties of the two classes. But, because this model converges at a loss greater than the VGG16 model, it's likely that it is underfitting some, and could benefit from some extra capacity.\n"
      ],
      "text/plain": [
       "Correct: \n",
       "\n",
       "That the training loss and validation loss stay fairly close is evidence that the model isn't just memorizing the training data, but rather learning general properties of the two classes. But, because this model converges at a loss greater than the VGG16 model, it's likely that it is underfitting some, and could benefit from some extra capacity."
      ]
     },
     "metadata": {},
     "output_type": "display_data"
    }
   ],
   "source": [
    "# View the solution (Run this code cell to receive credit!)\n",
    "q_4.check()"
   ]
  },
  {
   "cell_type": "markdown",
   "id": "c0210b3f",
   "metadata": {
    "papermill": {
     "duration": 0.080819,
     "end_time": "2024-05-27T16:42:24.911003",
     "exception": false,
     "start_time": "2024-05-27T16:42:24.830184",
     "status": "completed"
    },
    "tags": []
   },
   "source": [
    "# Conclusion #\n",
    "\n",
    "In this first lesson, you learned the basics of **convolutional image classifiers**, that they consist of a **base** for extracting features from images, and a **head** which uses the features to decide the image's class. You also saw how to build a classifier with **transfer learning** on pretrained base. "
   ]
  },
  {
   "cell_type": "markdown",
   "id": "168b2a3f",
   "metadata": {
    "papermill": {
     "duration": 0.080158,
     "end_time": "2024-05-27T16:42:25.071276",
     "exception": false,
     "start_time": "2024-05-27T16:42:24.991118",
     "status": "completed"
    },
    "tags": []
   },
   "source": [
    "# Keep Going #\n",
    "\n",
    "Move on to [**Lesson 2**](https://www.kaggle.com/ryanholbrook/convolution-and-relu) for a detailed look at how the base does this feature extraction. (It's really cool!)"
   ]
  },
  {
   "cell_type": "markdown",
   "id": "4796951f",
   "metadata": {
    "papermill": {
     "duration": 0.084231,
     "end_time": "2024-05-27T16:42:25.238278",
     "exception": false,
     "start_time": "2024-05-27T16:42:25.154047",
     "status": "completed"
    },
    "tags": []
   },
   "source": [
    "---\n",
    "\n",
    "\n",
    "\n",
    "\n",
    "*Have questions or comments? Visit the [course discussion forum](https://www.kaggle.com/learn/computer-vision/discussion) to chat with other learners.*"
   ]
  }
 ],
 "metadata": {
  "jupytext": {
   "formats": "ipynb,md",
   "split_at_heading": true
  },
  "kaggle": {
   "accelerator": "gpu",
   "dataSources": [
    {
     "datasetId": 708136,
     "sourceId": 1338830,
     "sourceType": "datasetVersion"
    },
    {
     "datasetId": 701538,
     "sourceId": 1363948,
     "sourceType": "datasetVersion"
    },
    {
     "datasetId": 878523,
     "sourceId": 1495782,
     "sourceType": "datasetVersion"
    }
   ],
   "dockerImageVersionId": 30648,
   "isGpuEnabled": true,
   "isInternetEnabled": false,
   "language": "python",
   "sourceType": "notebook"
  },
  "kernelspec": {
   "display_name": "Python 3",
   "language": "python",
   "name": "python3"
  },
  "language_info": {
   "codemirror_mode": {
    "name": "ipython",
    "version": 3
   },
   "file_extension": ".py",
   "mimetype": "text/x-python",
   "name": "python",
   "nbconvert_exporter": "python",
   "pygments_lexer": "ipython3",
   "version": "3.10.13"
  },
  "papermill": {
   "default_parameters": {},
   "duration": 170.241541,
   "end_time": "2024-05-27T16:42:28.352437",
   "environment_variables": {},
   "exception": null,
   "input_path": "__notebook__.ipynb",
   "output_path": "__notebook__.ipynb",
   "parameters": {},
   "start_time": "2024-05-27T16:39:38.110896",
   "version": "2.5.0"
  }
 },
 "nbformat": 4,
 "nbformat_minor": 5
}
